{
 "cells": [
  {
   "cell_type": "code",
   "execution_count": 26,
   "metadata": {},
   "outputs": [],
   "source": [
    "# Imports\n",
    "from pgmpy.factors.discrete import TabularCPD\n",
    "from pgmpy.models import BayesianNetwork\n",
    "from experiment import concert_prob_per_day\n",
    "import numpy as np\n",
    "import pandas as pd\n",
    "import json\n",
    "import random\n",
    "import seaborn as sns\n",
    "import math"
   ]
  },
  {
   "cell_type": "markdown",
   "metadata": {},
   "source": [
    "## Everything Data"
   ]
  },
  {
   "cell_type": "code",
   "execution_count": 27,
   "metadata": {},
   "outputs": [
    {
     "name": "stdout",
     "output_type": "stream",
     "text": [
      "id1    False\n",
      "id2    False\n",
      "dtype: bool\n"
     ]
    }
   ],
   "source": [
    "# Load of pairs of friends\n",
    "friendships = pd.read_csv(\"grupee_data/grupee_data/friends.csv\", skiprows=1, names= [\"id1\", \"id2\"])\n",
    "\n",
    "# Drop any entries with NaN\n",
    "friendships.dropna(inplace=True)\n",
    "print(friendships.isna().any()) # Check if it worked"
   ]
  },
  {
   "cell_type": "code",
   "execution_count": 28,
   "metadata": {},
   "outputs": [],
   "source": [
    "attendence_prob = {\n",
    "    #(id1 likes, id2 likes)\n",
    "    (True, True): 0.393,\n",
    "    (True, False): 0.018,\n",
    "    (False, True): 0.018,\n",
    "    (False, False): 0.002\n",
    "}"
   ]
  },
  {
   "cell_type": "code",
   "execution_count": 29,
   "metadata": {},
   "outputs": [],
   "source": [
    "# Get preferences\n",
    "with open('grupee_data/grupee_data/preferences.json') as f:\n",
    "    preferences = json.load(f)\n",
    "\n",
    "# Create a dict with {id1: {Genre1: 0, Genre2: 1, ...},\n",
    "#                    id2: {Genre2: 0, Genre2: 1, ...},\n",
    "#                     ...\n",
    "#                       }\n",
    "preferences_dict = {}\n",
    "for id in preferences:\n",
    "    temp_dict = {}\n",
    "    for i, genre in enumerate(concert_prob_per_day.keys()):\n",
    "        temp_dict[genre] = int(preferences[id][i])\n",
    "\n",
    "    preferences_dict[int(id)] = temp_dict"
   ]
  },
  {
   "cell_type": "markdown",
   "metadata": {},
   "source": [
    "## Naive approach\n",
    "Assume whether a concert is happening and whether two people like the genre are statistically independent\n",
    "\n",
    "We can then compute if person id1 attends a concert today by:\n",
    "\n",
    "$$ \\sum_{g \\in G} \\sum_{id2 \\in F} P(g) \\cdot P(\\text{Attend concert})$$\n",
    "\n",
    "Where: <br>\n",
    "G = All genres <br>\n",
    "F = All friends of person id1\n",
    "\n",
    "And $$P(\\text{Attend concert})$$ is defined by:\n",
    "\n",
    "|id1 likes genre| id2 like genre | P(Attend concert)|\n",
    "| --- | --- | --- |\n",
    "| True | True | 0.393 |\n",
    "| True | False | 0.018 |\n",
    "| False | True | 0.018 |\n",
    "| True | True | 0.002 |"
   ]
  },
  {
   "cell_type": "code",
   "execution_count": 30,
   "metadata": {},
   "outputs": [],
   "source": [
    "# for each possible genre sum up the posibility that that person will attend this genre (today)\n",
    "\n",
    "def get_total_probability(person_id):\n",
    "\n",
    "    \"\"\"\n",
    "    Parameters\n",
    "    -----------\n",
    "    Person: int\n",
    "        The id of the person whose probability we want to determine\n",
    "\n",
    "    Returns\n",
    "    ----------\n",
    "        total_proability: float\n",
    "            total probability computed as explained in the markdown above\n",
    "    \"\"\"\n",
    "    total_probability = 0\n",
    "    # Get list of friends for the person we are considering\n",
    "    friends = np.concatenate([friendships[friendships[\"id1\"] == person_id][\"id2\"].values, friendships[friendships[\"id2\"] == person_id][\"id1\"].values])\n",
    "    for genre in concert_prob_per_day.keys(): # for every genre get the probability of two friends attending the concert\n",
    "        for friend in friends:\n",
    "            p1_likes = preferences_dict[person_id].get(genre)\n",
    "            p2_likes =  preferences_dict[friend].get(genre)\n",
    "            \n",
    "            prob = attendence_prob[(p1_likes, p2_likes)]\n",
    "            total_probability += prob*concert_prob_per_day[genre]\n",
    "\n",
    "    return total_probability\n"
   ]
  },
  {
   "cell_type": "code",
   "execution_count": 31,
   "metadata": {},
   "outputs": [],
   "source": [
    "# Create a pandas DataFrame with columns = [person_id, total_probability, number of friends]\n",
    "all_people = preferences_dict.keys()\n",
    "all_probs = [get_total_probability(person) for person in all_people]\n",
    "\n",
    "no_of_friends = [len(np.concatenate([friendships[friendships[\"id1\"] == i][\"id2\"].values, friendships[friendships[\"id2\"] == i][\"id1\"].values])) for i in all_people]\n",
    "\n",
    "results = pd.DataFrame({\"UserID\": all_people, \"Total_prob\": all_probs, 'No_of_Friends': no_of_friends})"
   ]
  },
  {
   "cell_type": "code",
   "execution_count": 32,
   "metadata": {},
   "outputs": [
    {
     "data": {
      "text/html": [
       "<div>\n",
       "<style scoped>\n",
       "    .dataframe tbody tr th:only-of-type {\n",
       "        vertical-align: middle;\n",
       "    }\n",
       "\n",
       "    .dataframe tbody tr th {\n",
       "        vertical-align: top;\n",
       "    }\n",
       "\n",
       "    .dataframe thead th {\n",
       "        text-align: right;\n",
       "    }\n",
       "</style>\n",
       "<table border=\"1\" class=\"dataframe\">\n",
       "  <thead>\n",
       "    <tr style=\"text-align: right;\">\n",
       "      <th></th>\n",
       "      <th>UserID</th>\n",
       "      <th>Total_prob</th>\n",
       "      <th>No_of_Friends</th>\n",
       "    </tr>\n",
       "  </thead>\n",
       "  <tbody>\n",
       "    <tr>\n",
       "      <th>1612</th>\n",
       "      <td>1612</td>\n",
       "      <td>7.407093</td>\n",
       "      <td>113</td>\n",
       "    </tr>\n",
       "    <tr>\n",
       "      <th>419</th>\n",
       "      <td>419</td>\n",
       "      <td>6.093090</td>\n",
       "      <td>90</td>\n",
       "    </tr>\n",
       "    <tr>\n",
       "      <th>1210</th>\n",
       "      <td>1210</td>\n",
       "      <td>4.921236</td>\n",
       "      <td>92</td>\n",
       "    </tr>\n",
       "    <tr>\n",
       "      <th>312</th>\n",
       "      <td>312</td>\n",
       "      <td>4.830340</td>\n",
       "      <td>84</td>\n",
       "    </tr>\n",
       "    <tr>\n",
       "      <th>506</th>\n",
       "      <td>506</td>\n",
       "      <td>4.396460</td>\n",
       "      <td>63</td>\n",
       "    </tr>\n",
       "    <tr>\n",
       "      <th>...</th>\n",
       "      <td>...</td>\n",
       "      <td>...</td>\n",
       "      <td>...</td>\n",
       "    </tr>\n",
       "    <tr>\n",
       "      <th>4623</th>\n",
       "      <td>4623</td>\n",
       "      <td>0.005068</td>\n",
       "      <td>1</td>\n",
       "    </tr>\n",
       "    <tr>\n",
       "      <th>4620</th>\n",
       "      <td>4620</td>\n",
       "      <td>0.005068</td>\n",
       "      <td>1</td>\n",
       "    </tr>\n",
       "    <tr>\n",
       "      <th>2413</th>\n",
       "      <td>2413</td>\n",
       "      <td>0.005068</td>\n",
       "      <td>1</td>\n",
       "    </tr>\n",
       "    <tr>\n",
       "      <th>6765</th>\n",
       "      <td>6765</td>\n",
       "      <td>0.005068</td>\n",
       "      <td>1</td>\n",
       "    </tr>\n",
       "    <tr>\n",
       "      <th>7148</th>\n",
       "      <td>7148</td>\n",
       "      <td>0.005068</td>\n",
       "      <td>1</td>\n",
       "    </tr>\n",
       "  </tbody>\n",
       "</table>\n",
       "<p>8311 rows × 3 columns</p>\n",
       "</div>"
      ],
      "text/plain": [
       "      UserID  Total_prob  No_of_Friends\n",
       "1612    1612    7.407093            113\n",
       "419      419    6.093090             90\n",
       "1210    1210    4.921236             92\n",
       "312      312    4.830340             84\n",
       "506      506    4.396460             63\n",
       "...      ...         ...            ...\n",
       "4623    4623    0.005068              1\n",
       "4620    4620    0.005068              1\n",
       "2413    2413    0.005068              1\n",
       "6765    6765    0.005068              1\n",
       "7148    7148    0.005068              1\n",
       "\n",
       "[8311 rows x 3 columns]"
      ]
     },
     "execution_count": 32,
     "metadata": {},
     "output_type": "execute_result"
    }
   ],
   "source": [
    "# Sort the results by the total probability\n",
    "results.sort_values('Total_prob', ascending=False)"
   ]
  },
  {
   "cell_type": "code",
   "execution_count": 33,
   "metadata": {},
   "outputs": [
    {
     "data": {
      "text/plain": [
       "<Axes: >"
      ]
     },
     "execution_count": 33,
     "metadata": {},
     "output_type": "execute_result"
    },
    {
     "data": {
      "image/png": "[encoded data removed]",
      "text/plain": [
       "<Figure size 640x480 with 2 Axes>"
      ]
     },
     "metadata": {},
     "output_type": "display_data"
    }
   ],
   "source": [
    "# Check whether or not the number of friends and the total probability is correlated\n",
    "corr = results[['Total_prob', 'No_of_Friends']].corr()\n",
    "sns.heatmap(corr, vmin=0)"
   ]
  },
  {
   "cell_type": "markdown",
   "metadata": {},
   "source": [
    "Obversation from correlation: There is a slight correlation between the number of friends and their probability to attend a concert"
   ]
  },
  {
   "cell_type": "code",
   "execution_count": 34,
   "metadata": {},
   "outputs": [],
   "source": [
    "# Take the first 12% of entries\n",
    "no_vaccinated = math.floor(0.12*len(results))\n",
    "\n",
    "vaccinated  = results.sort_values('Total_prob', ascending=False).iloc[:no_vaccinated]\n",
    "vaccinated = vaccinated['UserID'].values"
   ]
  }
 ],
 "metadata": {
  "kernelspec": {
   "display_name": "Python 3",
   "language": "python",
   "name": "python3"
  },
  "language_info": {
   "codemirror_mode": {
    "name": "ipython",
    "version": 3
   },
   "file_extension": ".py",
   "mimetype": "text/x-python",
   "name": "python",
   "nbconvert_exporter": "python",
   "pygments_lexer": "ipython3",
   "version": "3.11.8"
  }
 },
 "nbformat": 4,
 "nbformat_minor": 2
}
