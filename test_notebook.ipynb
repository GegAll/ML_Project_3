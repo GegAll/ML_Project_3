{
 "cells": [
  {
   "cell_type": "code",
   "execution_count": 6,
   "metadata": {},
   "outputs": [
    {
     "name": "stdout",
     "output_type": "stream",
     "text": [
      "Requirement already satisfied: numpy in /home/thili/anaconda3/envs/mlenv/lib/python3.12/site-packages (1.26.3)\n",
      "Collecting pandas\n",
      "  Obtaining dependency information for pandas from https://files.pythonhosted.org/packages/38/f8/d8fddee9ed0d0c0f4a2132c1dfcf0e3e53265055da8df952a53e7eaf178c/pandas-2.2.3-cp312-cp312-manylinux_2_17_x86_64.manylinux2014_x86_64.whl.metadata\n",
      "  Downloading pandas-2.2.3-cp312-cp312-manylinux_2_17_x86_64.manylinux2014_x86_64.whl.metadata (89 kB)\n",
      "\u001b[2K     \u001b[38;2;114;156;31m━━━━━━━━━━━━━━━━━━━━━━━━━━━━━━━━━━━━━━━━\u001b[0m \u001b[32m89.9/89.9 kB\u001b[0m \u001b[31m1.2 MB/s\u001b[0m eta \u001b[36m0:00:00\u001b[0m MB/s\u001b[0m eta \u001b[36m0:00:01\u001b[0m:01\u001b[0m\n",
      "\u001b[?25hCollecting seaborn\n",
      "  Obtaining dependency information for seaborn from https://files.pythonhosted.org/packages/83/11/00d3c3dfc25ad54e731d91449895a79e4bf2384dc3ac01809010ba88f6d5/seaborn-0.13.2-py3-none-any.whl.metadata\n",
      "  Downloading seaborn-0.13.2-py3-none-any.whl.metadata (5.4 kB)\n",
      "Requirement already satisfied: python-dateutil>=2.8.2 in /home/thili/anaconda3/envs/mlenv/lib/python3.12/site-packages (from pandas) (2.8.2)\n",
      "Collecting pytz>=2020.1 (from pandas)\n",
      "  Obtaining dependency information for pytz>=2020.1 from https://files.pythonhosted.org/packages/11/c3/005fcca25ce078d2cc29fd559379817424e94885510568bc1bc53d7d5846/pytz-2024.2-py2.py3-none-any.whl.metadata\n",
      "  Downloading pytz-2024.2-py2.py3-none-any.whl.metadata (22 kB)\n",
      "Collecting tzdata>=2022.7 (from pandas)\n",
      "  Obtaining dependency information for tzdata>=2022.7 from https://files.pythonhosted.org/packages/a6/ab/7e5f53c3b9d14972843a647d8d7a853969a58aecc7559cb3267302c94774/tzdata-2024.2-py2.py3-none-any.whl.metadata\n",
      "  Downloading tzdata-2024.2-py2.py3-none-any.whl.metadata (1.4 kB)\n",
      "Requirement already satisfied: matplotlib!=3.6.1,>=3.4 in /home/thili/anaconda3/envs/mlenv/lib/python3.12/site-packages (from seaborn) (3.8.2)\n",
      "Requirement already satisfied: contourpy>=1.0.1 in /home/thili/anaconda3/envs/mlenv/lib/python3.12/site-packages (from matplotlib!=3.6.1,>=3.4->seaborn) (1.2.0)\n",
      "Requirement already satisfied: cycler>=0.10 in /home/thili/anaconda3/envs/mlenv/lib/python3.12/site-packages (from matplotlib!=3.6.1,>=3.4->seaborn) (0.12.1)\n",
      "Requirement already satisfied: fonttools>=4.22.0 in /home/thili/anaconda3/envs/mlenv/lib/python3.12/site-packages (from matplotlib!=3.6.1,>=3.4->seaborn) (4.47.2)\n",
      "Requirement already satisfied: kiwisolver>=1.3.1 in /home/thili/anaconda3/envs/mlenv/lib/python3.12/site-packages (from matplotlib!=3.6.1,>=3.4->seaborn) (1.4.5)\n",
      "Requirement already satisfied: packaging>=20.0 in /home/thili/anaconda3/envs/mlenv/lib/python3.12/site-packages (from matplotlib!=3.6.1,>=3.4->seaborn) (23.2)\n",
      "Requirement already satisfied: pillow>=8 in /home/thili/anaconda3/envs/mlenv/lib/python3.12/site-packages (from matplotlib!=3.6.1,>=3.4->seaborn) (10.2.0)\n",
      "Requirement already satisfied: pyparsing>=2.3.1 in /home/thili/anaconda3/envs/mlenv/lib/python3.12/site-packages (from matplotlib!=3.6.1,>=3.4->seaborn) (3.1.1)\n",
      "Requirement already satisfied: six>=1.5 in /home/thili/anaconda3/envs/mlenv/lib/python3.12/site-packages (from python-dateutil>=2.8.2->pandas) (1.16.0)\n",
      "Downloading pandas-2.2.3-cp312-cp312-manylinux_2_17_x86_64.manylinux2014_x86_64.whl (12.7 MB)\n",
      "\u001b[2K   \u001b[38;2;114;156;31m━━━━━━━━━━━━━━━━━━━━━━━━━━━━━━━━━━━━━━━━\u001b[0m \u001b[32m12.7/12.7 MB\u001b[0m \u001b[31m6.5 MB/s\u001b[0m eta \u001b[36m0:00:00\u001b[0mm eta \u001b[36m0:00:01\u001b[0m0:01\u001b[0m:01\u001b[0m\n",
      "\u001b[?25hDownloading seaborn-0.13.2-py3-none-any.whl (294 kB)\n",
      "\u001b[2K   \u001b[38;2;114;156;31m━━━━━━━━━━━━━━━━━━━━━━━━━━━━━━━━━━━━━━━━\u001b[0m \u001b[32m294.9/294.9 kB\u001b[0m \u001b[31m6.1 MB/s\u001b[0m eta \u001b[36m0:00:00\u001b[0m[31m7.1 MB/s\u001b[0m eta \u001b[36m0:00:01\u001b[0m\n",
      "\u001b[?25hDownloading pytz-2024.2-py2.py3-none-any.whl (508 kB)\n",
      "\u001b[2K   \u001b[38;2;114;156;31m━━━━━━━━━━━━━━━━━━━━━━━━━━━━━━━━━━━━━━━━\u001b[0m \u001b[32m508.0/508.0 kB\u001b[0m \u001b[31m6.5 MB/s\u001b[0m eta \u001b[36m0:00:00\u001b[0m MB/s\u001b[0m eta \u001b[36m0:00:01\u001b[0m:01\u001b[0m\n",
      "\u001b[?25hDownloading tzdata-2024.2-py2.py3-none-any.whl (346 kB)\n",
      "\u001b[2K   \u001b[38;2;114;156;31m━━━━━━━━━━━━━━━━━━━━━━━━━━━━━━━━━━━━━━━━\u001b[0m \u001b[32m346.6/346.6 kB\u001b[0m \u001b[31m6.1 MB/s\u001b[0m eta \u001b[36m0:00:00\u001b[0m[31m7.1 MB/s\u001b[0m eta \u001b[36m0:00:01\u001b[0m\n",
      "\u001b[?25hInstalling collected packages: pytz, tzdata, pandas, seaborn\n",
      "Successfully installed pandas-2.2.3 pytz-2024.2 seaborn-0.13.2 tzdata-2024.2\n"
     ]
    }
   ],
   "source": [
    "!pip install numpy pandas seaborn"
   ]
  },
  {
   "cell_type": "code",
   "execution_count": 7,
   "metadata": {},
   "outputs": [],
   "source": [
    "# Imports\n",
    "# from pgmpy.factors.discrete import TabularCPD\n",
    "# from pgmpy.models import BayesianNetwork\n",
    "from experiment import concert_prob_per_day\n",
    "import numpy as np\n",
    "import pandas as pd\n",
    "import json\n",
    "import random\n",
    "import seaborn as sns\n",
    "import math"
   ]
  },
  {
   "cell_type": "markdown",
   "metadata": {},
   "source": [
    "## Everything Data"
   ]
  },
  {
   "cell_type": "code",
   "execution_count": 9,
   "metadata": {},
   "outputs": [
    {
     "name": "stdout",
     "output_type": "stream",
     "text": [
      "id1    False\n",
      "id2    False\n",
      "dtype: bool\n"
     ]
    }
   ],
   "source": [
    "# Load of pairs of friends\n",
    "friendships = pd.read_csv(\"grupee_data/friends.csv\", skiprows=1, names= [\"id1\", \"id2\"])\n",
    "\n",
    "# Drop any entries with NaN\n",
    "friendships.dropna(inplace=True)\n",
    "print(friendships.isna().any()) # Check if it worked"
   ]
  },
  {
   "cell_type": "code",
   "execution_count": 10,
   "metadata": {},
   "outputs": [],
   "source": [
    "attendence_prob = {\n",
    "    #(id1 likes, id2 likes)\n",
    "    (True, True): 0.393,\n",
    "    (True, False): 0.018,\n",
    "    (False, True): 0.018,\n",
    "    (False, False): 0.002\n",
    "}"
   ]
  },
  {
   "cell_type": "code",
   "execution_count": 12,
   "metadata": {},
   "outputs": [],
   "source": [
    "# Get preferences\n",
    "with open('grupee_data/preferences.json') as f:\n",
    "    preferences = json.load(f)\n",
    "\n",
    "# Create a dict with {id1: {Genre1: 0, Genre2: 1, ...},\n",
    "#                    id2: {Genre2: 0, Genre2: 1, ...},\n",
    "#                     ...\n",
    "#                       }\n",
    "preferences_dict = {}\n",
    "for id in preferences:\n",
    "    temp_dict = {}\n",
    "    for i, genre in enumerate(concert_prob_per_day.keys()):\n",
    "        temp_dict[genre] = int(preferences[id][i])\n",
    "\n",
    "    preferences_dict[int(id)] = temp_dict"
   ]
  },
  {
   "cell_type": "markdown",
   "metadata": {},
   "source": [
    "## Naive approach\n",
    "Assume whether a concert is happening and whether two people like the genre are statistically independent\n",
    "\n",
    "We can then compute if person id1 attends a concert today by:\n",
    "\n",
    "$$ \\sum_{g \\in G} \\sum_{id2 \\in F} P(g) \\cdot P(\\text{Attend concert})$$\n",
    "\n",
    "Where: <br>\n",
    "G = All genres <br>\n",
    "F = All friends of person id1\n",
    "\n",
    "And $$P(\\text{Attend concert})$$ is defined by:\n",
    "\n",
    "|id1 likes genre| id2 like genre | P(Attend concert)|\n",
    "| --- | --- | --- |\n",
    "| True | True | 0.393 |\n",
    "| True | False | 0.018 |\n",
    "| False | True | 0.018 |\n",
    "| True | True | 0.002 |"
   ]
  },
  {
   "cell_type": "code",
   "execution_count": 13,
   "metadata": {},
   "outputs": [],
   "source": [
    "# for each possible genre sum up the posibility that that person will attend this genre (today)\n",
    "\n",
    "def get_total_probability(person_id):\n",
    "\n",
    "    \"\"\"\n",
    "    Parameters\n",
    "    -----------\n",
    "    Person: int\n",
    "        The id of the person whose probability we want to determine\n",
    "\n",
    "    Returns\n",
    "    ----------\n",
    "        total_proability: float\n",
    "            total probability computed as explained in the markdown above\n",
    "    \"\"\"\n",
    "    total_probability = 0\n",
    "    # Get list of friends for the person we are considering\n",
    "    friends = np.concatenate([friendships[friendships[\"id1\"] == person_id][\"id2\"].values, friendships[friendships[\"id2\"] == person_id][\"id1\"].values])\n",
    "    for genre in concert_prob_per_day.keys(): # for every genre get the probability of two friends attending the concert\n",
    "        for friend in friends:\n",
    "            p1_likes = preferences_dict[person_id].get(genre)\n",
    "            p2_likes =  preferences_dict[friend].get(genre)\n",
    "            \n",
    "            prob = attendence_prob[(p1_likes, p2_likes)]\n",
    "            total_probability += prob*concert_prob_per_day[genre]\n",
    "\n",
    "    return total_probability\n"
   ]
  },
  {
   "cell_type": "code",
   "execution_count": 14,
   "metadata": {},
   "outputs": [],
   "source": [
    "# Create a pandas DataFrame with columns = [person_id, total_probability, number of friends]\n",
    "all_people = preferences_dict.keys()\n",
    "all_probs = [get_total_probability(person) for person in all_people]\n",
    "\n",
    "no_of_friends = [len(np.concatenate([friendships[friendships[\"id1\"] == i][\"id2\"].values, friendships[friendships[\"id2\"] == i][\"id1\"].values])) for i in all_people]\n",
    "\n",
    "results = pd.DataFrame({\"UserID\": all_people, \"Total_prob\": all_probs, 'No_of_Friends': no_of_friends})"
   ]
  },
  {
   "cell_type": "code",
   "execution_count": 15,
   "metadata": {},
   "outputs": [
    {
     "data": {
      "text/html": [
       "<div>\n",
       "<style scoped>\n",
       "    .dataframe tbody tr th:only-of-type {\n",
       "        vertical-align: middle;\n",
       "    }\n",
       "\n",
       "    .dataframe tbody tr th {\n",
       "        vertical-align: top;\n",
       "    }\n",
       "\n",
       "    .dataframe thead th {\n",
       "        text-align: right;\n",
       "    }\n",
       "</style>\n",
       "<table border=\"1\" class=\"dataframe\">\n",
       "  <thead>\n",
       "    <tr style=\"text-align: right;\">\n",
       "      <th></th>\n",
       "      <th>UserID</th>\n",
       "      <th>Total_prob</th>\n",
       "      <th>No_of_Friends</th>\n",
       "    </tr>\n",
       "  </thead>\n",
       "  <tbody>\n",
       "    <tr>\n",
       "      <th>1612</th>\n",
       "      <td>1612</td>\n",
       "      <td>7.407093</td>\n",
       "      <td>113</td>\n",
       "    </tr>\n",
       "    <tr>\n",
       "      <th>419</th>\n",
       "      <td>419</td>\n",
       "      <td>6.093090</td>\n",
       "      <td>90</td>\n",
       "    </tr>\n",
       "    <tr>\n",
       "      <th>1210</th>\n",
       "      <td>1210</td>\n",
       "      <td>4.921236</td>\n",
       "      <td>92</td>\n",
       "    </tr>\n",
       "    <tr>\n",
       "      <th>312</th>\n",
       "      <td>312</td>\n",
       "      <td>4.830340</td>\n",
       "      <td>84</td>\n",
       "    </tr>\n",
       "    <tr>\n",
       "      <th>506</th>\n",
       "      <td>506</td>\n",
       "      <td>4.396460</td>\n",
       "      <td>63</td>\n",
       "    </tr>\n",
       "    <tr>\n",
       "      <th>...</th>\n",
       "      <td>...</td>\n",
       "      <td>...</td>\n",
       "      <td>...</td>\n",
       "    </tr>\n",
       "    <tr>\n",
       "      <th>4623</th>\n",
       "      <td>4623</td>\n",
       "      <td>0.005068</td>\n",
       "      <td>1</td>\n",
       "    </tr>\n",
       "    <tr>\n",
       "      <th>4620</th>\n",
       "      <td>4620</td>\n",
       "      <td>0.005068</td>\n",
       "      <td>1</td>\n",
       "    </tr>\n",
       "    <tr>\n",
       "      <th>2413</th>\n",
       "      <td>2413</td>\n",
       "      <td>0.005068</td>\n",
       "      <td>1</td>\n",
       "    </tr>\n",
       "    <tr>\n",
       "      <th>6765</th>\n",
       "      <td>6765</td>\n",
       "      <td>0.005068</td>\n",
       "      <td>1</td>\n",
       "    </tr>\n",
       "    <tr>\n",
       "      <th>7148</th>\n",
       "      <td>7148</td>\n",
       "      <td>0.005068</td>\n",
       "      <td>1</td>\n",
       "    </tr>\n",
       "  </tbody>\n",
       "</table>\n",
       "<p>8311 rows × 3 columns</p>\n",
       "</div>"
      ],
      "text/plain": [
       "      UserID  Total_prob  No_of_Friends\n",
       "1612    1612    7.407093            113\n",
       "419      419    6.093090             90\n",
       "1210    1210    4.921236             92\n",
       "312      312    4.830340             84\n",
       "506      506    4.396460             63\n",
       "...      ...         ...            ...\n",
       "4623    4623    0.005068              1\n",
       "4620    4620    0.005068              1\n",
       "2413    2413    0.005068              1\n",
       "6765    6765    0.005068              1\n",
       "7148    7148    0.005068              1\n",
       "\n",
       "[8311 rows x 3 columns]"
      ]
     },
     "execution_count": 15,
     "metadata": {},
     "output_type": "execute_result"
    }
   ],
   "source": [
    "# Sort the results by the total probability\n",
    "results.sort_values('Total_prob', ascending=False)"
   ]
  },
  {
   "cell_type": "code",
   "execution_count": 16,
   "metadata": {},
   "outputs": [
    {
     "data": {
      "text/plain": [
       "<Axes: >"
      ]
     },
     "execution_count": 16,
     "metadata": {},
     "output_type": "execute_result"
    },
    {
     "data": {
      "image/png": "[encoded data removed]",
      "text/plain": [
       "<Figure size 640x480 with 2 Axes>"
      ]
     },
     "metadata": {},
     "output_type": "display_data"
    }
   ],
   "source": [
    "# Check whether or not the number of friends and the total probability is correlated\n",
    "corr = results[['Total_prob', 'No_of_Friends']].corr()\n",
    "sns.heatmap(corr, vmin=0)"
   ]
  },
  {
   "cell_type": "markdown",
   "metadata": {},
   "source": [
    "Obversation from correlation: There is a slight correlation between the number of friends and their probability to attend a concert"
   ]
  },
  {
   "cell_type": "code",
   "execution_count": 17,
   "metadata": {},
   "outputs": [],
   "source": [
    "# Take the first 12% of entries\n",
    "no_vaccinated = math.floor(0.12*len(results))\n",
    "\n",
    "vaccinated  = results.sort_values('Total_prob', ascending=False).iloc[:no_vaccinated]\n",
    "vaccinated = vaccinated['UserID'].values"
   ]
  },
  {
   "cell_type": "code",
   "execution_count": 18,
   "metadata": {},
   "outputs": [
    {
     "data": {
      "text/plain": [
       "array([1612,  419, 1210,  312,  506,  294, 1197,  108, 3764, 1315,  715,\n",
       "       2435, 1687,  587,  160, 1974,  327, 4011, 2595,  694, 3664, 2654,\n",
       "       7233,  855, 4207, 1805,  446, 2242, 1923, 7296, 6678,  492, 1947,\n",
       "        725,  600, 1658,  260, 4024, 1837,  269, 6005,  366, 3578,  904,\n",
       "       5569, 4352, 2237, 3322,  532, 8201,  416,  554, 4726,  588, 2020,\n",
       "         48, 4017,  615, 3660,  552, 2894,  444,  168, 2408,  590,  300,\n",
       "        279,  177, 1305, 4022, 4013, 7273,   17,  942, 7060,    2, 1886,\n",
       "        114, 1806, 2117, 4935,  480,  384,  349, 1059, 5139,  430, 3498,\n",
       "       1484,  768,  342,  328,  391, 1526, 1709,  544, 2788,  468, 1504,\n",
       "       2004, 3417,  985, 4006,  102, 5486, 5797, 7392, 6568, 7359, 3738,\n",
       "       3495, 8095,  306,  443, 2003,  249,  101,  243, 5254,  320,  555,\n",
       "       5560,  182,  388, 4977,  284, 4702, 2010, 4060, 5775, 2244, 4530,\n",
       "       4113,  621,  811,  118,  104, 1877, 2898, 7871,  365,  909, 2604,\n",
       "        252, 1304, 7278, 1408, 4786, 1316, 4761, 3081, 5443,  520,  149,\n",
       "       7261, 1232, 7258, 1530,  363,  598, 4595, 5049,  469,  299,   39,\n",
       "       4812, 4796, 1951,  125, 1538, 6714,  133,  607, 1854, 6722, 3427,\n",
       "       2531,  627, 1904, 7440,  174,  372, 3652, 3550, 1209, 1637, 5251,\n",
       "        290, 6713, 5234,  512, 1715, 6096, 4602,  602, 3897,  369, 4459,\n",
       "        434,  642, 1870, 5150, 2429,  766, 7442, 7990, 3386, 2528,  251,\n",
       "       2083, 2159,  413,  141, 6078,  601, 3700, 3513, 5250, 2092,  286,\n",
       "       2163, 2764,  830, 8016, 1883, 3105,  835, 6489, 4869,  272,  890,\n",
       "       6167,  196, 2674, 2931, 4002, 8040, 5406,  549, 2769, 6499, 3004,\n",
       "       3769, 1000, 1807,  937,  411, 1739,  460,  119, 3044, 2964, 7385,\n",
       "       3041, 8048, 6161,  517, 1449, 2483, 7746, 3999, 4135, 3665, 6378,\n",
       "        452,   46, 7875, 7091, 1602, 5427,  425, 1952, 5554, 3936, 5792,\n",
       "       2194, 4351, 5277, 3210, 1296, 2424, 3749, 3746, 2124, 5192, 1083,\n",
       "         83, 5181,  703,  574, 4882,  638, 2955,  680, 7199,   94, 1757,\n",
       "       1528,  524, 1872, 4073, 7066,  282, 4613, 3935,  377, 4591,  354,\n",
       "       7161,  316, 1909,  966, 4019, 1485, 7978, 8077, 4968, 1860, 1980,\n",
       "       7436, 2508, 1302, 4093,  582,  171, 6210, 6604, 5800,  722, 2486,\n",
       "       3853, 5551, 6048, 7470, 4803,  682, 6789, 5604, 1390, 3352, 6772,\n",
       "         72, 3244, 2471, 4183,  547,   81, 3408, 8004, 4552,  410, 5863,\n",
       "       1817, 6019, 4690, 2826, 2155, 6875, 3215, 3782, 1010, 7743, 1301,\n",
       "        606,  292,  746, 2241, 1117,  298, 6105, 1588, 2477, 1540,  934,\n",
       "       1647, 1437, 4156,  732, 7150,  245,  688, 1137, 4263,  775, 3822,\n",
       "       3931, 4062,  311,    4, 5984,  223, 5179, 8199, 4401, 7876, 2258,\n",
       "       7862, 2492, 5001, 3774,  375,  518, 3765, 7214,  470, 4211, 7972,\n",
       "       2417, 5489, 1444,  172,  787, 2934, 3572, 2414, 7454,  932, 2037,\n",
       "       2613, 2610,  819,  714, 4616, 1229, 5876,   87, 7304, 7212,   96,\n",
       "        441,  541,  889, 2544,  303, 6097,  878, 3027,  950, 3569, 3075,\n",
       "       1676,  709, 6066, 8098, 4202, 3048, 5350, 3544, 1895,  957, 3972,\n",
       "       8074, 6058, 1212, 4027,  228, 5042, 1025,  753,  217, 4076,  528,\n",
       "       4682, 3834, 3203, 4014,   45, 2208, 1113, 8013, 7864, 1652, 6569,\n",
       "       3830,  838, 2524, 3753, 3548,  991, 1907, 3543, 7508, 2293, 3592,\n",
       "       3997,  536, 5067, 1827, 7758, 5257, 4138, 1092, 1069, 8117, 3921,\n",
       "       3812, 5175, 1038, 5808, 3094, 3833, 3520, 1002, 3084, 2247, 4056,\n",
       "       7889, 5739, 4559, 4654, 7263, 7563, 1727, 2359, 4810,  701,  192,\n",
       "       2592, 6336, 1931, 5476, 6732, 6978, 2660, 4109, 3974, 6512, 1996,\n",
       "       5544, 5870, 3862, 6743, 1402,  242,  167,  940, 1064, 2930, 4794,\n",
       "       3894, 7626, 3818,  395, 5431, 3292, 1371, 1668, 2960, 5654, 2862,\n",
       "       4028, 7327,  148,  308,  280, 6045, 4943, 5658, 2761, 3946, 4655,\n",
       "       6681, 2439, 3144, 5184, 5380, 1393, 1099, 7874, 7184, 5901, 6098,\n",
       "          9, 2495,  494, 1576, 6935,  493, 4955, 4962,  387,  750, 3392,\n",
       "       2903, 5762, 1863, 4926, 1868, 3354, 5865, 6949, 7297,  548,  716,\n",
       "       7971, 1875, 5272,  427, 3905, 8224, 3909, 4261, 4015, 5264, 2947,\n",
       "       5337, 1954, 3880, 5344,  551, 1831, 3808, 4154, 7456, 3198, 1123,\n",
       "       7404,  146, 7424, 3813, 4220, 5448,  126, 2899, 6011, 5803, 7362,\n",
       "       5810,   74, 2951, 2134,  447, 4203,  240, 2173, 2926,  129, 4208,\n",
       "       7354, 4119,  210, 3359, 2965,  435, 2035, 6724, 2868,   27, 3483,\n",
       "       5566, 6131, 1636,  193, 6021, 3857,  340, 7287, 3745, 8064, 5279,\n",
       "       2040,  139, 3852,   40,  383, 2819, 3711, 3895, 2525, 3659, 6742,\n",
       "       3454,  951, 7853,  852, 2641, 3360,  409, 5172, 3888, 2370, 2034,\n",
       "       7850, 2546, 4999, 5063, 7641, 5363, 8211,  275, 7667,  423, 5605,\n",
       "        671, 4658,   38, 6746, 7843, 1213, 3036,  150, 1893, 5545, 7203,\n",
       "       3867, 7873, 3944, 4416, 7400, 1936,  216, 3575, 6080, 7198,  560,\n",
       "       2678, 2022,   34,  571, 5752, 1412, 3648, 2176,   23,  907, 2865,\n",
       "       3403, 3364, 8099, 4515,  994, 3382, 7247, 5235, 2928, 6431, 2051,\n",
       "       8294, 6711, 3868,  281, 1394,  740, 2099, 2235, 4016, 5494, 1937,\n",
       "       3557, 1531, 1772, 6520, 1150, 5579, 3832, 7445, 3820,  592, 1654,\n",
       "       2313,  553, 1308, 2937, 1088,  442, 1949, 6617,  111, 1379, 2711,\n",
       "       2758, 8217,  189, 2189, 1816, 1815, 5196,  629,  169,  847, 1851,\n",
       "        285, 5487, 7790,  997, 4811,   30, 5058, 7228, 6086,  239, 3489,\n",
       "       4936, 7451, 3754, 1830, 8019,  232, 8215, 7460, 1488, 6223,  525,\n",
       "       6890,  471, 7997,   26, 3773, 4576, 1095, 1219, 1656, 1862, 1415,\n",
       "       6701, 6852,   64, 2494, 2576, 1838,  799, 3374, 2315, 2873, 7804,\n",
       "       1027, 4161, 5346, 2518, 1649, 5991,  405, 6652, 5170, 4256,  221,\n",
       "        658, 6808,    7,  453, 1494, 5023, 4793, 3597, 7269, 1216,   43,\n",
       "        273, 1743, 2730, 8203, 4487, 3982,  158, 1879, 2255, 1400, 3837,\n",
       "       3338, 2908, 1252, 3321, 3458,  885,   93, 2559,   18, 1701, 4687,\n",
       "       3509,  268, 4618, 6225,  608, 7417, 1077, 1228, 3869, 1733, 1245,\n",
       "        310, 5271, 2416, 1336, 4627,  572, 3409, 1731, 6631, 7437, 6987,\n",
       "       2321,  235,  361, 2956, 1365, 2902, 8092, 1774, 5828, 1509, 1853,\n",
       "       1632, 7280, 6508, 4752, 5274, 2263, 3904, 7165, 4546, 2425, 5903,\n",
       "       7176,   82, 3397, 5883, 8192, 2125, 1606, 6519,   31, 5490, 4565,\n",
       "       1795, 2673,  984, 7773, 4720,  154, 1928, 2877, 7869,   88, 3898,\n",
       "        356, 5582, 2552, 3878,   66, 3879, 4950, 2904, 4384, 4912, 4041,\n",
       "       3564, 5436, 1803, 5977, 5169, 5864, 4743, 6525, 6906, 4350, 8036,\n",
       "       7880,  212, 4686, 6982, 5155, 5868, 4364, 3178, 3956, 2225, 5241,\n",
       "       5163, 1761, 7272,  157, 1011, 1752,  603, 5057,   90, 7458, 7737,\n",
       "       6899, 3994,  576,  672,  730, 6994, 3492,  837,  783, 1442, 5867,\n",
       "       1704,  123, 1357, 3433,  696,  527, 5912])"
      ]
     },
     "execution_count": 18,
     "metadata": {},
     "output_type": "execute_result"
    }
   ],
   "source": [
    "vaccinated"
   ]
  },
  {
   "cell_type": "code",
   "execution_count": null,
   "metadata": {},
   "outputs": [],
   "source": []
  }
 ],
 "metadata": {
  "kernelspec": {
   "display_name": "Python 3",
   "language": "python",
   "name": "python3"
  },
  "language_info": {
   "codemirror_mode": {
    "name": "ipython",
    "version": 3
   },
   "file_extension": ".py",
   "mimetype": "text/x-python",
   "name": "python",
   "nbconvert_exporter": "python",
   "pygments_lexer": "ipython3",
   "version": "3.12.0"
  }
 },
 "nbformat": 4,
 "nbformat_minor": 2
}
